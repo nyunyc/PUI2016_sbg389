{
 "cells": [
  {
   "cell_type": "markdown",
   "metadata": {},
   "source": [
    "# HW3 Assignment I Notebook\n",
    "### This notebook contains the first deliverable for HW3\n",
    "This deliverable provides a view of the central limit theorem by generating different types of random sized distirbutions and ploting the means against their size.\n",
    "\n",
    "The general flow of the notebook follows:\n",
    "\n",
    "1) GENERATE 100 samples of different sizes N (N>10 & N<2000) from each of 5 different distributions (500 samples in total), ## all with the same population mean. Include a Normal, a Poisson, a Binomial, a Chi-Squared distribution, and 1 more of your choice.\n",
    "\n",
    "2) For each sample plot the sample mean (dependent var.) against the sample size N (independent var.) (if you want you can do it with the sample standard deviation as well).\n",
    "\n",
    "3) Describe the behavior you see in the plots in terms of the law of large numbers.\n",
    "\n",
    "4) PLOT the distributions of all sample means (together for all distributions). Mandatory: as a histogram. Optional: in any other way you think is convincing ## Extra Credit: FIT a gaussian to the distribution of means"
   ]
  },
  {
   "cell_type": "code",
   "execution_count": 217,
   "metadata": {
    "collapsed": false
   },
   "outputs": [
    {
     "name": "stdout",
     "output_type": "stream",
     "text": [
      "Populating the interactive namespace from numpy and matplotlib\n"
     ]
    }
   ],
   "source": [
    "#Import modules, initialize the random generator\n",
    "\n",
    "from __future__ import print_function\n",
    "import pandas as pd\n",
    "import numpy as np\n",
    "import pylab as pl\n",
    "\n",
    "%pylab inline\n",
    "\n",
    "#establish the seed\n",
    "np.random.seed(212)"
   ]
  },
  {
   "cell_type": "code",
   "execution_count": 207,
   "metadata": {
    "collapsed": false
   },
   "outputs": [],
   "source": [
    "#Create a dictionary to store all the samples for each of the types of distributions along with their means and size\n",
    "#Each of the values of the dictionary is a list of lists with the sample, sample mean and sample size respectively.\n",
    "\n",
    "sampleDic={'Normal':[], 'Poisson':[],'Binomial':[],'Chi-Squared':[]}\n",
    "\n",
    "#Each of the values of the dict is a list of lists with each of the distribution types samples\n",
    "type(sampleDic['Normal'])\n",
    "\n",
    "#Generate the samples for each of the distribution types with mean = 100\n",
    "myMean = 100\n",
    "\n",
    "#We will use the np.random function \n",
    "\n",
    "#Chi sq Distribution (https://en.wikipedia.org/wiki/Chi_distribution)\n",
    "#for this distribution, the np.random method takes two values, degree of freedom and size\n",
    "#for chi sq distributions, the degree of freedom is equal to the mean, so we can do\n",
    "\n",
    "df= myMean\n",
    "\n",
    "chisqMeans = []\n",
    "chisqSizes = []\n",
    "\n",
    "#Create the 100 samples for Chi-Sq\n",
    "for i in range (1,101):\n",
    "    #get a random int between 10 and 2000 for the size\n",
    "    mySize = np.random.randint(10,2000,1)\n",
    "    sample = np.random.chisquare(df,size=mySize)\n",
    "    #sampleDic['Chi-Squared'][0].append([sample,sample.mean(),sample.size])\n",
    "    chisqMeans.append(sample.mean())\n",
    "    chisqSizes.append(sample.size)\n"
   ]
  },
  {
   "cell_type": "code",
   "execution_count": 218,
   "metadata": {
    "collapsed": false
   },
   "outputs": [
    {
     "name": "stdout",
     "output_type": "stream",
     "text": [
      "100\n",
      "100\n"
     ]
    },
    {
     "data": {
      "text/plain": [
       "<matplotlib.collections.PathCollection at 0x7f461898e4d0>"
      ]
     },
     "execution_count": 218,
     "metadata": {},
     "output_type": "execute_result"
    },
    {
     "data": {
      "image/png": "[encoded data removed]",
      "text/plain": [
       "<matplotlib.figure.Figure at 0x7f461819a650>"
      ]
     },
     "metadata": {},
     "output_type": "display_data"
    }
   ],
   "source": [
    "\n",
    "# Checking the structure\n",
    "\n",
    "print (len(chisqMeans))\n",
    "print (len(chisqSizes))\n",
    "\n",
    "pl.scatter(chisqSizes, chisqMeans)"
   ]
  },
  {
   "cell_type": "code",
   "execution_count": null,
   "metadata": {
    "collapsed": true
   },
   "outputs": [],
   "source": []
  },
  {
   "cell_type": "code",
   "execution_count": 224,
   "metadata": {
    "collapsed": true
   },
   "outputs": [],
   "source": [
    "# Poisson Distribution (https://en.wikipedia.org/wiki/Poisson_distribution)\n",
    "\n",
    "df= myMean\n",
    "\n",
    "poissonMeans = []\n",
    "poissonSizes = []\n",
    "\n",
    "#Create the 100 samples for Poission\n",
    "for i in range (1,101):\n",
    "    #get a random int between 10 and 2000 for the size\n",
    "    mySize = np.random.randint(10,2000,1)\n",
    "    sample = np.random.poisson(df,size=mySize)\n",
    "    #sampleDic['Chi-Squared'][0].append([sample,sample.mean(),sample.size])\n",
    "    poissonMeans.append(sample.mean())\n",
    "    poissonSizes.append(sample.size)\n",
    "    \n",
    "normalMeans = []\n",
    "normalSizes = []\n",
    "\n",
    "#Create the 100 samples for normal\n",
    "for i in range (1,101):\n",
    "    #get a random int between 10 and 2000 for the size\n",
    "    mySize = np.random.randint(10,2000,1)\n",
    "    sample = np.random.normal(df,scale=3,size=mySize)\n",
    "    normalMeans.append(sample.mean())\n",
    "    normalSizes.append(sample.size)\n",
    "    \n",
    "binomialMeans = []\n",
    "binomialSizes = []\n",
    "\n",
    "#Create the 100 samples for binomial\n",
    "for i in range (1,101):\n",
    "    #get a random int between 10 and 2000 for the size\n",
    "    mySize = np.random.randint(10,2000,1)\n",
    "    sample = np.random.binomial(200,.5,size=mySize)\n",
    "    binomialMeans.append(sample.mean())\n",
    "    binomialSizes.append(sample.size)"
   ]
  },
  {
   "cell_type": "code",
   "execution_count": 223,
   "metadata": {
    "collapsed": false
   },
   "outputs": [
    {
     "data": {
      "text/plain": [
       "(array([  1.,   0.,   0.,   0.,   0.,   0.,   0.,   0.,   3.,  24.,  38.,\n",
       "         29.,   4.,   0.,   1.]),\n",
       " array([  97.18181818,   97.4487568 ,   97.71569542,   97.98263403,\n",
       "          98.24957265,   98.51651127,   98.78344988,   99.0503885 ,\n",
       "          99.31732712,   99.58426573,   99.85120435,  100.11814297,\n",
       "         100.38508159,  100.6520202 ,  100.91895882,  101.18589744]),\n",
       " <a list of 15 Patch objects>)"
      ]
     },
     "execution_count": 223,
     "metadata": {},
     "output_type": "execute_result"
    },
    {
     "data": {
      "image/png": "[encoded data removed]",
      "text/plain": [
       "<matplotlib.figure.Figure at 0x7f46134b3610>"
      ]
     },
     "metadata": {},
     "output_type": "display_data"
    }
   ],
   "source": [
    "pl.hist(poissonMeans,15, color='green', alpha=0.4,histtype='bar')\n",
    "pl.hist(chisqMeans, 15,color = 'red', alpha=0.4,histtype='bar' )\n",
    "pl.hist(normalMeans, 15,color = 'black', alpha=0.4,histtype='bar')\n",
    "pl.hist(binomialMeans, 15,color = 'blue', alpha=0.4,histtype='bar')\n",
    "\n",
    "#pl.scatter(poissonSizes, poissonMeans, color='green')\n",
    "#pl.scatter(chisqSizes, chisqMeans, color = 'red' )\n",
    "#pl.scatter(normalSizes, normalMeans, color = 'black')\n",
    "#pl.scatter(binomialSizes, binomialMeans, color = 'blue')"
   ]
  }
 ],
 "metadata": {
  "kernelspec": {
   "display_name": "PUI2016_Python2",
   "language": "python",
   "name": "pui2016_python2"
  },
  "language_info": {
   "codemirror_mode": {
    "name": "ipython",
    "version": 2
   },
   "file_extension": ".py",
   "mimetype": "text/x-python",
   "name": "python",
   "nbconvert_exporter": "python",
   "pygments_lexer": "ipython2",
   "version": "2.7.12"
  }
 },
 "nbformat": 4,
 "nbformat_minor": 0
}
