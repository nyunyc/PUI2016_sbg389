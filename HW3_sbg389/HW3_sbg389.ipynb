{
 "cells": [
  {
   "cell_type": "markdown",
   "metadata": {},
   "source": [
    "# HW3 Assignment I Notebook\n",
    "### This notebook contains the first deliverable for HW3\n",
    "This deliverable provides a view of the central limit theorem by generating different types of random sized distirbutions and ploting the means against their size.\n",
    "\n",
    "The general flow of the notebook follows:\n",
    "\n",
    "1) GENERATE 100 samples of different sizes N (N>10 & N<2000) from each of 5 different distributions (500 samples in total), ## all with the same population mean. Include a Normal, a Poisson, a Binomial, a Chi-Squared distribution, and 1 more of your choice.\n",
    "\n",
    "2) For each sample plot the sample mean (dependent var.) against the sample size N (independent var.) (if you want you can do it with the sample standard deviation as well).\n",
    "\n",
    "3) Describe the behavior you see in the plots in terms of the law of large numbers.\n",
    "\n",
    "4) PLOT the distributions of all sample means (together for all distributions). Mandatory: as a histogram. Optional: in any other way you think is convincing ## Extra Credit: FIT a gaussian to the distribution of means"
   ]
  },
  {
   "cell_type": "code",
   "execution_count": 138,
   "metadata": {
    "collapsed": false
   },
   "outputs": [
    {
     "name": "stdout",
     "output_type": "stream",
     "text": [
      "Populating the interactive namespace from numpy and matplotlib\n"
     ]
    },
    {
     "name": "stderr",
     "output_type": "stream",
     "text": [
      "/opt/rh/anaconda/root/envs/PUI2016_Python2/lib/python2.7/site-packages/IPython/core/magics/pylab.py:161: UserWarning: pylab import has clobbered these variables: ['sample']\n",
      "`%matplotlib` prevents importing * from pylab and numpy\n",
      "  \"\\n`%matplotlib` prevents importing * from pylab and numpy\"\n"
     ]
    }
   ],
   "source": [
    "#Import modules, initialize the random generator\n",
    "\n",
    "from __future__ import print_function\n",
    "import pandas as pd\n",
    "import numpy as np\n",
    "import pylab as pl\n",
    "\n",
    "%pylab inline\n",
    "\n",
    "#establish the seed\n",
    "np.random.seed(2112)"
   ]
  },
  {
   "cell_type": "code",
   "execution_count": 181,
   "metadata": {
    "collapsed": false
   },
   "outputs": [],
   "source": [
    "#Create a dictionary to store all the samples for each of the types of distributions along with their means and size\n",
    "#Each of the values of the dictionary is a list of lists with the sample, sample mean and sample size respectively.\n",
    "\n",
    "sampleDic={'Normal':[], 'Poisson':[],'Binomial':[],'Chi-Squared':[]}\n",
    "\n",
    "#Each of the values of the dict is a list of lists with each of the distribution types samples\n",
    "type(sampleDic['Normal'])\n",
    "\n",
    "#Generate the samples for each of the distribution types with mean = 100\n",
    "myMean = 100\n",
    "\n",
    "#We will use the np.random function \n",
    "\n",
    "#Chi sq Distribution (https://en.wikipedia.org/wiki/Chi_distribution)\n",
    "#for this distribution, the np.randome method takes two values, degree of freedom and size\n",
    "#for chi sq distributions, the degree of freedom is equal to the mean, so we can do\n",
    "\n",
    "df= myMean\n",
    "\n",
    "chisqMeans = []\n",
    "chisqSizes = []\n",
    "\n",
    "#Create the 100 samples for Chi-Sq\n",
    "for i in range (1,101):\n",
    "    #get a random int between 10 and 2000 for the size\n",
    "    mySize = np.random.randint(10,2000,1)\n",
    "    sample = np.random.chisquare(df,size=mySize)\n",
    "    #sampleDic['Chi-Squared'][0].append([sample,sample.mean(),sample.size])\n",
    "    chisqMeans.append(sample.mean())\n",
    "    chisqSizes.append(sample.size)\n"
   ]
  },
  {
   "cell_type": "code",
   "execution_count": 182,
   "metadata": {
    "collapsed": false
   },
   "outputs": [
    {
     "name": "stdout",
     "output_type": "stream",
     "text": [
      "100\n",
      "100\n"
     ]
    },
    {
     "data": {
      "text/plain": [
       "<matplotlib.collections.PathCollection at 0x7f461998ef50>"
      ]
     },
     "execution_count": 182,
     "metadata": {},
     "output_type": "execute_result"
    },
    {
     "data": {
      "image/png": "[encoded data removed]",
      "text/plain": [
       "<matplotlib.figure.Figure at 0x7f4619a82ed0>"
      ]
     },
     "metadata": {},
     "output_type": "display_data"
    }
   ],
   "source": [
    "\n",
    "# Checking the structure\n",
    "\n",
    "print (len(chisqMeans))\n",
    "print (len(chisqSizes))\n",
    "\n",
    "pl.scatter(chisqSizes, chisqMeans)"
   ]
  },
  {
   "cell_type": "code",
   "execution_count": null,
   "metadata": {
    "collapsed": true
   },
   "outputs": [],
   "source": []
  },
  {
   "cell_type": "code",
   "execution_count": 194,
   "metadata": {
    "collapsed": true
   },
   "outputs": [],
   "source": [
    "# Poisson Distribution (https://en.wikipedia.org/wiki/Poisson_distribution)\n",
    "#for this distribution, the np.randome method takes to values, degree of freedom and size\n",
    "#for chi poisson distributions, xxx is equal to the mean, so we can do\n",
    "\n",
    "df= myMean\n",
    "\n",
    "poissonMeans = []\n",
    "poissonSizes = []\n",
    "\n",
    "#Create the 100 samples for Poission\n",
    "for i in range (1,101):\n",
    "    #get a random int between 10 and 2000 for the size\n",
    "    mySize = np.random.randint(10,2000,1)\n",
    "    sample = np.random.poisson(df,size=mySize)\n",
    "    #sampleDic['Chi-Squared'][0].append([sample,sample.mean(),sample.size])\n",
    "    poissonMeans.append(sample.mean())\n",
    "    poissonSizes.append(sample.size)\n",
    "    \n",
    "normalMeans = []\n",
    "normalSizes = []\n",
    "\n",
    "#Create the 100 samples for normal\n",
    "for i in range (1,101):\n",
    "    #get a random int between 10 and 2000 for the size\n",
    "    mySize = np.random.randint(10,2000,1)\n",
    "    sample = np.random.normal(df,scale=3,size=mySize)\n",
    "    normalMeans.append(sample.mean())\n",
    "    normalSizes.append(sample.size)\n",
    "    \n",
    "binomialMeans = []\n",
    "binomialSizes = []\n",
    "\n",
    "#Create the 100 samples for binomial\n",
    "for i in range (1,101):\n",
    "    #get a random int between 10 and 2000 for the size\n",
    "    mySize = np.random.randint(10,2000,1)\n",
    "    sample = np.random.binomial(200,.5,size=mySize)\n",
    "    binomialMeans.append(sample.mean())\n",
    "    binomialSizes.append(sample.size)"
   ]
  },
  {
   "cell_type": "code",
   "execution_count": 195,
   "metadata": {
    "collapsed": false
   },
   "outputs": [
    {
     "data": {
      "text/plain": [
       "<matplotlib.collections.PathCollection at 0x7f46192c68d0>"
      ]
     },
     "execution_count": 195,
     "metadata": {},
     "output_type": "execute_result"
    },
    {
     "data": {
      "image/png": "[encoded data removed]",
      "text/plain": [
       "<matplotlib.figure.Figure at 0x7f46193b4510>"
      ]
     },
     "metadata": {},
     "output_type": "display_data"
    }
   ],
   "source": [
    "pl.scatter(poissonSizes, poissonMeans, color='green')\n",
    "pl.scatter(chisqSizes, chisqMeans, color = 'red' )\n",
    "pl.scatter(normalSizes, normalMeans, color = 'black')\n",
    "pl.scatter(binomialSizes, binomialMeans, color = 'blue')"
   ]
  }
 ],
 "metadata": {
  "kernelspec": {
   "display_name": "PUI2016_Python2",
   "language": "python",
   "name": "pui2016_python2"
  },
  "language_info": {
   "codemirror_mode": {
    "name": "ipython",
    "version": 2
   },
   "file_extension": ".py",
   "mimetype": "text/x-python",
   "name": "python",
   "nbconvert_exporter": "python",
   "pygments_lexer": "ipython2",
   "version": "2.7.12"
  }
 },
 "nbformat": 4,
 "nbformat_minor": 0
}
