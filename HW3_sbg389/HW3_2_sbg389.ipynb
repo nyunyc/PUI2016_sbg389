{
 "cells": [
  {
   "cell_type": "markdown",
   "metadata": {},
   "source": [
    "# HW3 Assignment II Notebook\n",
    "### This notebook contains the second deliverable for HW3\n",
    "This deliverable presents the initial steps of a data analysis using the Citibike Punblic Datasets\n",
    "\n",
    "The general flow of the notebook follows:\n",
    "\n",
    "1) Fetch the Citibike Data from the AWS Blob and store a local copy\n",
    "\n",
    "2) Use pandas to read in the local copy of the CitiBike files,into a DF\n",
    "\n",
    "3) Display the top few rows of the DF in your notebook. This table must be rendered.\n",
    "\n",
    "4) Display the reducted dataframe. This table must be rendered.\n",
    "\n",
    "5) Plot your data distributions."
   ]
  },
  {
   "cell_type": "markdown",
   "metadata": {},
   "source": [
    "### Idea\n",
    "#### There is higher usage of citibikes during rush hours on weekdays than during the same hours on weekends\n",
    "\n",
    "#### H0 The ratio of rush hour trips to non-rush hour trips on weekdays is the same or smaller than the ratio of rush hour trips to non-rush hour trips on weekends."
   ]
  },
  {
   "cell_type": "code",
   "execution_count": 17,
   "metadata": {
    "collapsed": false
   },
   "outputs": [
    {
     "name": "stdout",
     "output_type": "stream",
     "text": [
      "Populating the interactive namespace from numpy and matplotlib\n",
      "/home/cusp/sbg389/PUIdata\n"
     ]
    }
   ],
   "source": [
    "#Import modules, initialize the random generator\n",
    "from __future__ import print_function\n",
    "import pandas as pd\n",
    "import numpy as np\n",
    "import pylab as pl\n",
    "import os\n",
    "import matplotlib.mlab as mlab\n",
    "\n",
    "%pylab inline\n",
    "\n",
    "#puidir = os.getenv(\"PUIDATA\")\n",
    "#print (puidir)"
   ]
  },
  {
   "cell_type": "code",
   "execution_count": 18,
   "metadata": {
    "collapsed": true
   },
   "outputs": [],
   "source": [
    "#Helper function to download local copies of the Citibike data by Federica Bianco\n",
    "#https://github.com/fedhere/PUI2016_fb55/blob/master/HW3_fb55/citibikes_gender.ipynb\n",
    "\n",
    "def getCitiBikeCSV(datestring):\n",
    "    print (\"Downloading\", datestring)\n",
    "    ### First I will heck that it is not already there\n",
    "    if not os.path.isfile(os.getenv(\"PUIDATA\") + \"/\" + datestring + \"-citibike-tripdata.csv\"):\n",
    "        if os.path.isfile(datestring + \"-citibike-tripdata.csv\"):\n",
    "            # if in the current dir just move it\n",
    "            if os.system(\"mv \" + datestring + \"-citibike-tripdata.csv \" + os.getenv(\"PUIDATA\")):\n",
    "                print (\"Error moving file!, Please check!\")\n",
    "        #otherwise start looking for the zip file\n",
    "        else:\n",
    "            if not os.path.isfile(os.getenv(\"PUIDATA\") + \"/\" + datestring + \"-citibike-tripdata.zip\"):\n",
    "                if not os.path.isfile(datestring + \"-citibike-tripdata.zip\"):\n",
    "                    os.system(\"curl -O https://s3.amazonaws.com/tripdata/\" + datestring + \"-citibike-tripdata.zip\")\n",
    "                ###  To move it I use the os.system() functions to run bash commands with arguments\n",
    "                os.system(\"mv \" + datestring + \"-citibike-tripdata.zip \" + os.getenv(\"PUIDATA\"))\n",
    "            ### unzip the csv \n",
    "            os.system(\"unzip \" + os.getenv(\"PUIDATA\") + \"/\" + datestring + \"-citibike-tripdata.zip\")\n",
    "            ## NOTE: old csv citibike data had a different name structure. \n",
    "            if '2014' in datestring:\n",
    "                os.system(\"mv \" + datestring[:4] + '-' +  datestring[4:] + \n",
    "                          \"\\ -\\ Citi\\ Bike\\ trip\\ data.csv \" + datestring + \"-citibike-tripdata.csv\")\n",
    "            os.system(\"mv \" + datestring + \"-citibike-tripdata.csv \" + os.getenv(\"PUIDATA\"))\n",
    "    ### One final check:\n",
    "    if not os.path.isfile(os.getenv(\"PUIDATA\") + \"/\" + datestring + \"-citibike-tripdata.csv\"):\n",
    "        print (\"WARNING!!! something is wrong: the file is not there!\")\n",
    "\n",
    "    else:\n",
    "        print (\"file in place, you can continue\")"
   ]
  },
  {
   "cell_type": "code",
   "execution_count": 21,
   "metadata": {
    "collapsed": false
   },
   "outputs": [
    {
     "name": "stdout",
     "output_type": "stream",
     "text": [
      "Downloading 201401\n",
      "file in place, you can continue\n"
     ]
    }
   ],
   "source": [
    "#Download the data using Federica's helper function\n",
    "datestring = '201401'\n",
    "getCitiBikeCSV(datestring)"
   ]
  },
  {
   "cell_type": "code",
   "execution_count": 84,
   "metadata": {
    "collapsed": false
   },
   "outputs": [
    {
     "data": {
      "text/html": [
       "<div>\n",
       "<table border=\"1\" class=\"dataframe\">\n",
       "  <thead>\n",
       "    <tr style=\"text-align: right;\">\n",
       "      <th></th>\n",
       "      <th>tripduration</th>\n",
       "      <th>starttime</th>\n",
       "      <th>stoptime</th>\n",
       "      <th>start station id</th>\n",
       "      <th>start station name</th>\n",
       "      <th>start station latitude</th>\n",
       "      <th>start station longitude</th>\n",
       "      <th>end station id</th>\n",
       "      <th>end station name</th>\n",
       "      <th>end station latitude</th>\n",
       "      <th>end station longitude</th>\n",
       "      <th>bikeid</th>\n",
       "      <th>usertype</th>\n",
       "      <th>birth year</th>\n",
       "      <th>gender</th>\n",
       "      <th>date</th>\n",
       "      <th>dateIndex</th>\n",
       "    </tr>\n",
       "  </thead>\n",
       "  <tbody>\n",
       "    <tr>\n",
       "      <th>0</th>\n",
       "      <td>471</td>\n",
       "      <td>2014-01-01 00:00:06</td>\n",
       "      <td>2014-01-01 00:07:57</td>\n",
       "      <td>2009</td>\n",
       "      <td>Catherine St &amp; Monroe St</td>\n",
       "      <td>40.711174</td>\n",
       "      <td>-73.996826</td>\n",
       "      <td>263</td>\n",
       "      <td>Elizabeth St &amp; Hester St</td>\n",
       "      <td>40.717290</td>\n",
       "      <td>-73.996375</td>\n",
       "      <td>16379</td>\n",
       "      <td>Subscriber</td>\n",
       "      <td>1986</td>\n",
       "      <td>1</td>\n",
       "      <td>2014-01-01 00:00:06</td>\n",
       "      <td>2014-01-01 00:00:06</td>\n",
       "    </tr>\n",
       "    <tr>\n",
       "      <th>1</th>\n",
       "      <td>1494</td>\n",
       "      <td>2014-01-01 00:00:38</td>\n",
       "      <td>2014-01-01 00:25:32</td>\n",
       "      <td>536</td>\n",
       "      <td>1 Ave &amp; E 30 St</td>\n",
       "      <td>40.741444</td>\n",
       "      <td>-73.975361</td>\n",
       "      <td>259</td>\n",
       "      <td>South St &amp; Whitehall St</td>\n",
       "      <td>40.701221</td>\n",
       "      <td>-74.012342</td>\n",
       "      <td>15611</td>\n",
       "      <td>Subscriber</td>\n",
       "      <td>1963</td>\n",
       "      <td>1</td>\n",
       "      <td>2014-01-01 00:00:38</td>\n",
       "      <td>2014-01-01 00:00:38</td>\n",
       "    </tr>\n",
       "    <tr>\n",
       "      <th>2</th>\n",
       "      <td>464</td>\n",
       "      <td>2014-01-01 00:03:59</td>\n",
       "      <td>2014-01-01 00:11:43</td>\n",
       "      <td>228</td>\n",
       "      <td>E 48 St &amp; 3 Ave</td>\n",
       "      <td>40.754601</td>\n",
       "      <td>-73.971879</td>\n",
       "      <td>2022</td>\n",
       "      <td>E 59 St &amp; Sutton Pl</td>\n",
       "      <td>40.758491</td>\n",
       "      <td>-73.959206</td>\n",
       "      <td>16613</td>\n",
       "      <td>Subscriber</td>\n",
       "      <td>1991</td>\n",
       "      <td>1</td>\n",
       "      <td>2014-01-01 00:03:59</td>\n",
       "      <td>2014-01-01 00:03:59</td>\n",
       "    </tr>\n",
       "    <tr>\n",
       "      <th>3</th>\n",
       "      <td>373</td>\n",
       "      <td>2014-01-01 00:05:15</td>\n",
       "      <td>2014-01-01 00:11:28</td>\n",
       "      <td>519</td>\n",
       "      <td>Pershing Square N</td>\n",
       "      <td>40.751884</td>\n",
       "      <td>-73.977702</td>\n",
       "      <td>526</td>\n",
       "      <td>E 33 St &amp; 5 Ave</td>\n",
       "      <td>40.747659</td>\n",
       "      <td>-73.984907</td>\n",
       "      <td>15938</td>\n",
       "      <td>Subscriber</td>\n",
       "      <td>1989</td>\n",
       "      <td>1</td>\n",
       "      <td>2014-01-01 00:05:15</td>\n",
       "      <td>2014-01-01 00:05:15</td>\n",
       "    </tr>\n",
       "  </tbody>\n",
       "</table>\n",
       "</div>"
      ],
      "text/plain": [
       "   tripduration            starttime             stoptime  start station id  \\\n",
       "0           471  2014-01-01 00:00:06  2014-01-01 00:07:57              2009   \n",
       "1          1494  2014-01-01 00:00:38  2014-01-01 00:25:32               536   \n",
       "2           464  2014-01-01 00:03:59  2014-01-01 00:11:43               228   \n",
       "3           373  2014-01-01 00:05:15  2014-01-01 00:11:28               519   \n",
       "\n",
       "         start station name  start station latitude  start station longitude  \\\n",
       "0  Catherine St & Monroe St               40.711174               -73.996826   \n",
       "1           1 Ave & E 30 St               40.741444               -73.975361   \n",
       "2           E 48 St & 3 Ave               40.754601               -73.971879   \n",
       "3         Pershing Square N               40.751884               -73.977702   \n",
       "\n",
       "   end station id          end station name  end station latitude  \\\n",
       "0             263  Elizabeth St & Hester St             40.717290   \n",
       "1             259   South St & Whitehall St             40.701221   \n",
       "2            2022       E 59 St & Sutton Pl             40.758491   \n",
       "3             526           E 33 St & 5 Ave             40.747659   \n",
       "\n",
       "   end station longitude  bikeid    usertype birth year  gender  \\\n",
       "0             -73.996375   16379  Subscriber       1986       1   \n",
       "1             -74.012342   15611  Subscriber       1963       1   \n",
       "2             -73.959206   16613  Subscriber       1991       1   \n",
       "3             -73.984907   15938  Subscriber       1989       1   \n",
       "\n",
       "                 date           dateIndex  \n",
       "0 2014-01-01 00:00:06 2014-01-01 00:00:06  \n",
       "1 2014-01-01 00:00:38 2014-01-01 00:00:38  \n",
       "2 2014-01-01 00:03:59 2014-01-01 00:03:59  \n",
       "3 2014-01-01 00:05:15 2014-01-01 00:05:15  "
      ]
     },
     "execution_count": 84,
     "metadata": {},
     "output_type": "execute_result"
    }
   ],
   "source": [
    "#Read the CSV into a data framw\n",
    "df=pd.read_csv(os.getenv(\"PUIDATA\")+'/' + datestring + '-citibike-tripdata.csv')\n",
    "\n",
    "#Handle conversion of the string date into a new date collumn\n",
    "df['date'] = pd.to_datetime(df['starttime'])\n",
    "df['dateIndex'] = pd.to_datetime(df['starttime'])\n",
    "df.head(4)"
   ]
  },
  {
   "cell_type": "code",
   "execution_count": 86,
   "metadata": {
    "collapsed": false
   },
   "outputs": [
    {
     "data": {
      "text/html": [
       "<div>\n",
       "<table border=\"1\" class=\"dataframe\">\n",
       "  <thead>\n",
       "    <tr style=\"text-align: right;\">\n",
       "      <th></th>\n",
       "      <th>date</th>\n",
       "    </tr>\n",
       "    <tr>\n",
       "      <th>dateIndex</th>\n",
       "      <th></th>\n",
       "    </tr>\n",
       "  </thead>\n",
       "  <tbody>\n",
       "    <tr>\n",
       "      <th>2014-01-01 00:00:06</th>\n",
       "      <td>2014-01-01 00:00:06</td>\n",
       "    </tr>\n",
       "    <tr>\n",
       "      <th>2014-01-01 00:00:38</th>\n",
       "      <td>2014-01-01 00:00:38</td>\n",
       "    </tr>\n",
       "    <tr>\n",
       "      <th>2014-01-01 00:03:59</th>\n",
       "      <td>2014-01-01 00:03:59</td>\n",
       "    </tr>\n",
       "    <tr>\n",
       "      <th>2014-01-01 00:05:15</th>\n",
       "      <td>2014-01-01 00:05:15</td>\n",
       "    </tr>\n",
       "    <tr>\n",
       "      <th>2014-01-01 00:05:18</th>\n",
       "      <td>2014-01-01 00:05:18</td>\n",
       "    </tr>\n",
       "  </tbody>\n",
       "</table>\n",
       "</div>"
      ],
      "text/plain": [
       "                                   date\n",
       "dateIndex                              \n",
       "2014-01-01 00:00:06 2014-01-01 00:00:06\n",
       "2014-01-01 00:00:38 2014-01-01 00:00:38\n",
       "2014-01-01 00:03:59 2014-01-01 00:03:59\n",
       "2014-01-01 00:05:15 2014-01-01 00:05:15\n",
       "2014-01-01 00:05:18 2014-01-01 00:05:18"
      ]
     },
     "execution_count": 86,
     "metadata": {},
     "output_type": "execute_result"
    }
   ],
   "source": [
    "#Selecting the columns that are necessary for the analsis\n",
    "df = df[['date','dateIndex']]\n",
    "df.set_index('dateIndex', inplace = True)\n",
    "df.head()\n"
   ]
  },
  {
   "cell_type": "code",
   "execution_count": 87,
   "metadata": {
    "collapsed": false
   },
   "outputs": [
    {
     "data": {
      "text/html": [
       "<div>\n",
       "<table border=\"1\" class=\"dataframe\">\n",
       "  <thead>\n",
       "    <tr style=\"text-align: right;\">\n",
       "      <th></th>\n",
       "      <th>date</th>\n",
       "    </tr>\n",
       "    <tr>\n",
       "      <th>dateIndex</th>\n",
       "      <th></th>\n",
       "    </tr>\n",
       "  </thead>\n",
       "  <tbody>\n",
       "    <tr>\n",
       "      <th>2014-01-01 06:31:48</th>\n",
       "      <td>2014-01-01 06:31:48</td>\n",
       "    </tr>\n",
       "    <tr>\n",
       "      <th>2014-01-01 06:32:08</th>\n",
       "      <td>2014-01-01 06:32:08</td>\n",
       "    </tr>\n",
       "    <tr>\n",
       "      <th>2014-01-01 06:32:15</th>\n",
       "      <td>2014-01-01 06:32:15</td>\n",
       "    </tr>\n",
       "    <tr>\n",
       "      <th>2014-01-01 06:32:40</th>\n",
       "      <td>2014-01-01 06:32:40</td>\n",
       "    </tr>\n",
       "    <tr>\n",
       "      <th>2014-01-01 06:34:06</th>\n",
       "      <td>2014-01-01 06:34:06</td>\n",
       "    </tr>\n",
       "  </tbody>\n",
       "</table>\n",
       "</div>"
      ],
      "text/plain": [
       "                                   date\n",
       "dateIndex                              \n",
       "2014-01-01 06:31:48 2014-01-01 06:31:48\n",
       "2014-01-01 06:32:08 2014-01-01 06:32:08\n",
       "2014-01-01 06:32:15 2014-01-01 06:32:15\n",
       "2014-01-01 06:32:40 2014-01-01 06:32:40\n",
       "2014-01-01 06:34:06 2014-01-01 06:34:06"
      ]
     },
     "execution_count": 87,
     "metadata": {},
     "output_type": "execute_result"
    }
   ],
   "source": [
    "#Create a dataframe contining the rush hour trips, using the dataframe between_time method.\n",
    "#http://pandas.pydata.org/pandas-docs/stable/generated/pandas.DataFrame.between_time.html\n",
    "#http://stackoverflow.com/questions/24576786/how-to-use-dataframe-between-time-function \n",
    "\n",
    "df_rushMorning = df.between_time(\"6:30\",\"9:30\")\n",
    "df_rushEvening = df.between_time(\"15:30\",\"20:00\")\n",
    "df_rush = pd.concat(([df_rushMorning,df_rushEvening]))\n",
    "df_rush.head()"
   ]
  },
  {
   "cell_type": "code",
   "execution_count": 89,
   "metadata": {
    "collapsed": false
   },
   "outputs": [
    {
     "data": {
      "text/html": [
       "<div>\n",
       "<table border=\"1\" class=\"dataframe\">\n",
       "  <thead>\n",
       "    <tr style=\"text-align: right;\">\n",
       "      <th></th>\n",
       "      <th>date</th>\n",
       "    </tr>\n",
       "    <tr>\n",
       "      <th>dateIndex</th>\n",
       "      <th></th>\n",
       "    </tr>\n",
       "  </thead>\n",
       "  <tbody>\n",
       "    <tr>\n",
       "      <th>2014-01-01 09:30:52</th>\n",
       "      <td>2014-01-01 09:30:52</td>\n",
       "    </tr>\n",
       "    <tr>\n",
       "      <th>2014-01-01 09:30:58</th>\n",
       "      <td>2014-01-01 09:30:58</td>\n",
       "    </tr>\n",
       "    <tr>\n",
       "      <th>2014-01-01 09:31:20</th>\n",
       "      <td>2014-01-01 09:31:20</td>\n",
       "    </tr>\n",
       "    <tr>\n",
       "      <th>2014-01-01 09:31:36</th>\n",
       "      <td>2014-01-01 09:31:36</td>\n",
       "    </tr>\n",
       "    <tr>\n",
       "      <th>2014-01-01 09:31:38</th>\n",
       "      <td>2014-01-01 09:31:38</td>\n",
       "    </tr>\n",
       "  </tbody>\n",
       "</table>\n",
       "</div>"
      ],
      "text/plain": [
       "                                   date\n",
       "dateIndex                              \n",
       "2014-01-01 09:30:52 2014-01-01 09:30:52\n",
       "2014-01-01 09:30:58 2014-01-01 09:30:58\n",
       "2014-01-01 09:31:20 2014-01-01 09:31:20\n",
       "2014-01-01 09:31:36 2014-01-01 09:31:36\n",
       "2014-01-01 09:31:38 2014-01-01 09:31:38"
      ]
     },
     "execution_count": 89,
     "metadata": {},
     "output_type": "execute_result"
    }
   ],
   "source": [
    "#Create a dataframe contining the non rush hour trips, using the dataframe between_time method.\n",
    "\n",
    "df_nonRushDay = df.between_time(\"9:30\",\"15:30\")\n",
    "df_nonRushNight = df.between_time(\"20:00\",\"6:30\")\n",
    "df_nonRush = pd.concat(([df_nonRushDay,df_nonRushNight]))\n",
    "df_nonRush.head()"
   ]
  },
  {
   "cell_type": "code",
   "execution_count": 108,
   "metadata": {
    "collapsed": false
   },
   "outputs": [
    {
     "name": "stdout",
     "output_type": "stream",
     "text": [
      "date\n",
      "0    24521\n",
      "1    11951\n",
      "2    21398\n",
      "3    24119\n",
      "4    21587\n",
      "5    15419\n",
      "6    18300\n",
      "Name: date, dtype: int64\n",
      "date\n",
      "0    32151\n",
      "1    18154\n",
      "2    28010\n",
      "3    35020\n",
      "4    30536\n",
      "5     8345\n",
      "6    10901\n",
      "Name: date, dtype: int64\n",
      "date\n",
      "0    1.311162\n",
      "1    1.519036\n",
      "2    1.309001\n",
      "3    1.451967\n",
      "4    1.414555\n",
      "5    0.541215\n",
      "6    0.595683\n",
      "Name: date, dtype: float64\n"
     ]
    },
    {
     "data": {
      "text/plain": [
       "<matplotlib.text.Text at 0x7f77f4967410>"
      ]
     },
     "execution_count": 108,
     "metadata": {},
     "output_type": "execute_result"
    },
    {
     "data": {
      "image/png": "[encoded data removed]",
      "text/plain": [
       "<matplotlib.figure.Figure at 0x7f77f4811150>"
      ]
     },
     "metadata": {},
     "output_type": "display_data"
    }
   ],
   "source": [
    "#Plotting the data for both dataframes trying to express the difference that we sustain on the hypotesis\n",
    "\n",
    "fig=pl.figure(figsize(15,10))\n",
    "\n",
    "df_countRushDay = df_rush.date.groupby([df_rush.date.dt.weekday]).count()\n",
    "df_countNonRushDay = df_nonRush.date.groupby([df_nonRush.date.dt.weekday]).count()\n",
    "\n",
    "print (df_countNonRushDay)\n",
    "print (df_countRushDay)\n",
    "\n",
    "#The ration between rush hour trips Vs Non Rush Hour Trips\n",
    "print (df_countRushDay/df_countNonRushDay)\n",
    "\n",
    "ax = ((df_countRushDay/df_countNonRushDay)).plot(kind=\"bar\", alpha=0.5, label='non rush hour trips')\n",
    "ax.xaxis.set_ticklabels(['Mon','Tue','Wed','Thu','Fri','Sat','Sun'], fontsize=20)\n",
    "ax.set_ylabel (\"Ration of Rush Hour Trips / Non Rush Hour Trips\")\n",
    "ax.set_xlabel (\"Day of the week\")"
   ]
  },
  {
   "cell_type": "code",
   "execution_count": null,
   "metadata": {
    "collapsed": true
   },
   "outputs": [],
   "source": []
  }
 ],
 "metadata": {
  "kernelspec": {
   "display_name": "PUI2016_Python2",
   "language": "python",
   "name": "pui2016_python2"
  },
  "language_info": {
   "codemirror_mode": {
    "name": "ipython",
    "version": 2
   },
   "file_extension": ".py",
   "mimetype": "text/x-python",
   "name": "python",
   "nbconvert_exporter": "python",
   "pygments_lexer": "ipython2",
   "version": "2.7.12"
  }
 },
 "nbformat": 4,
 "nbformat_minor": 0
}
